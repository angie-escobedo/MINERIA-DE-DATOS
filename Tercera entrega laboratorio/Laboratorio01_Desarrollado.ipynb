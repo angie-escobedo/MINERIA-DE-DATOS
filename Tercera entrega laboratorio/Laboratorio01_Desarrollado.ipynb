{
  "cells": [
    {
      "cell_type": "markdown",
      "source": [
        "##  **Laboratorio 01 - PySpark**\n",
        "```\n",
        "UNIVERSIDAD SAN ANTONIO ABAD DEL CUSCO\n",
        "Estudiante: Angie Escobedo Mescco\n",
        "```"
      ],
      "metadata": {
        "id": "MXVPHBw1AjhS"
      }
    },
    {
      "cell_type": "markdown",
      "metadata": {
        "id": "lXu9uUgx7R87"
      },
      "source": [
        "![CMCC](https://scontent.fcuz1-1.fna.fbcdn.net/v/t1.6435-9/169999414_134997141968151_5389622841264143457_n.jpg?_nc_cat=100&ccb=1-5&_nc_sid=09cbfe&_nc_eui2=AeGYHrPMueJlavl7eDql2QOI2St2L7MLFHTZK3YvswsUdPzk3Ovp__UvRhUQlcFyH2o&_nc_ohc=KZJCq4jFuhMAX9h5HUI&_nc_ht=scontent.fcuz1-1.fna&oh=00_AT_sGFdClC9xMtR4S8p-ilZYOR4ycFv1uCTqoKj-frAi8g&oe=61F5FE4C)\n",
        "# **Spark + Python = PySpark**\n",
        "\n",
        "#### Este notebook presenta los conceptos básicos de Spark a través de su interfaz de lenguaje Python. Como aplicación inicial usaremos el ejemplo clásico del contador de palabras. Con este ejemplo, puede comprender la lógica de programación funcional para las diversas tareas de exploración de datos distribuidos.\n",
        "\n",
        "#### Para esto usaremos el libro de texto [Obras completas de William Shakespeare] (http://www.gutenberg.org/ebooks/100) obtenido del [Proyecto Gutenberg] (http://www.gutenberg.org/ wiki / Página_principal). Veremos que este mismo algoritmo se puede utilizar para textos de cualquier tamaño.\n",
        "\n",
        "#### **Este notebook contiene:**\n",
        "#### *Parte 1:* Creación de una base RDD y RDD de tupla\n",
        "#### *Parte 2:* Manejo de RDD de tuplas\n",
        "#### *Parte 3:* Encontrar palabras sueltas y calcular promedios\n",
        "#### *Parte 4:* Aplicar el recuento de palabras a un archivo\n",
        "#### *Parte 5:* Similitud entre objetos\n",
        "#### Para los ejercicios es recomendable consultar la documentación de [PySpark API](https://spark.apache.org/docs/latest/api/python/pyspark.html#pyspark.RDD)"
      ]
    },
    {
      "cell_type": "markdown",
      "metadata": {
        "id": "eowtVWOr7R9D"
      },
      "source": [
        "### **Parte 1: Creación y manipulación de RDD**"
      ]
    },
    {
      "cell_type": "markdown",
      "metadata": {
        "id": "ygBFGKyW7R9F"
      },
      "source": [
        "#### En esta parte del notebook crearemos una base RDD a partir de una lista con el comando `parallelize`."
      ]
    },
    {
      "cell_type": "markdown",
      "metadata": {
        "id": "9cOob7X97R9G"
      },
      "source": [
        "#### **(1a) Creando una base RDD**\n",
        "#### Podemos crear una base de datos RDD de diferentes tipos y fuente Python con el comando `sc.parallelize (fuente, particiones)`, siendo fuente una variable que contiene los datos (ej .: una lista) y particiona el número de particiones trabajar en paralelo."
      ]
    },
    {
      "cell_type": "code",
      "execution_count": 1,
      "metadata": {
        "colab": {
          "base_uri": "https://localhost:8080/"
        },
        "id": "BqDqBaId7XHT",
        "outputId": "2f7d88dd-f2f4-4950-bf61-5a63e1562353"
      },
      "outputs": [
        {
          "output_type": "stream",
          "name": "stdout",
          "text": [
            "Collecting pyspark==3.0.1\n",
            "  Downloading pyspark-3.0.1.tar.gz (204.2 MB)\n",
            "\u001b[K     |████████████████████████████████| 204.2 MB 34 kB/s \n",
            "\u001b[?25hCollecting py4j==0.10.9\n",
            "  Downloading py4j-0.10.9-py2.py3-none-any.whl (198 kB)\n",
            "\u001b[K     |████████████████████████████████| 198 kB 51.3 MB/s \n",
            "\u001b[?25hBuilding wheels for collected packages: pyspark\n",
            "  Building wheel for pyspark (setup.py) ... \u001b[?25l\u001b[?25hdone\n",
            "  Created wheel for pyspark: filename=pyspark-3.0.1-py2.py3-none-any.whl size=204612243 sha256=8f74040542d24eda75cd710d6583a885df0fe131452c91d9cab58d3d31e19583\n",
            "  Stored in directory: /root/.cache/pip/wheels/5e/34/fa/b37b5cef503fc5148b478b2495043ba61b079120b7ff379f9b\n",
            "Successfully built pyspark\n",
            "Installing collected packages: py4j, pyspark\n",
            "Successfully installed py4j-0.10.9 pyspark-3.0.1\n"
          ]
        }
      ],
      "source": [
        "!pip install pyspark==3.0.1 py4j==0.10.9"
      ]
    },
    {
      "cell_type": "code",
      "source": [
        "from pyspark import SparkContext\n",
        "sc = SparkContext()"
      ],
      "metadata": {
        "id": "b6_tXl7S_g6L"
      },
      "execution_count": 2,
      "outputs": []
    },
    {
      "cell_type": "code",
      "execution_count": 3,
      "metadata": {
        "colab": {
          "base_uri": "https://localhost:8080/"
        },
        "id": "Peg23yAZ7R9K",
        "outputId": "d71871c3-9707-41e9-dead-45696ca287da"
      },
      "outputs": [
        {
          "output_type": "stream",
          "name": "stdout",
          "text": [
            "<class 'pyspark.rdd.RDD'>\n"
          ]
        }
      ],
      "source": [
        "ListaPalavras = ['gato', 'elefante', 'rato', 'rato', 'gato']\n",
        "palavrasRDD = sc.parallelize(ListaPalavras, 4)\n",
        "print(type(palavrasRDD))"
      ]
    },
    {
      "cell_type": "markdown",
      "metadata": {
        "id": "Lz7UKk967R9N"
      },
      "source": [
        "#### **(1b) Plural**\n",
        "\n",
        "#### Vamos a crear una función que transforme una palabra en plural agregando una letra 's' al final de la cadena. A continuación, usemos la función `map()` para aplicar la transformación a cada palabra del RDD.\n",
        "\n",
        "#### En Python (y muchos otros lenguajes) la concatenación de cadenas es costosa. Una mejor alternativa es crear una nueva cadena usando [`str.format()`] (https://docs.python.org/2/library/string.html#format-string-syntax).\n",
        "\n",
        "#### Nota: La cadena entre los conjuntos de tres comillas representa la documentación de la función. Esta documentación se muestra con el comando `help()`. Usaremos la estandarización de documentación sugerida para Python, mantendremos esta documentación en inglés."
      ]
    },
    {
      "cell_type": "code",
      "execution_count": 4,
      "metadata": {
        "colab": {
          "base_uri": "https://localhost:8080/"
        },
        "id": "1Kq-Pqs-7R9Q",
        "outputId": "6cb58add-456a-4c1e-f333-3c04f1a603bb"
      },
      "outputs": [
        {
          "output_type": "stream",
          "name": "stdout",
          "text": [
            "gatos\n"
          ]
        }
      ],
      "source": [
        "# EXERCICIO\n",
        "def Plural(palavra):\n",
        "    \"\"\"Adds an 's' to `palavra`.\n",
        "\n",
        "    Args:\n",
        "        palavra (str): A string.\n",
        "\n",
        "    Returns:\n",
        "        str: A string with 's' added to it.\n",
        "    \"\"\"\n",
        "    return f\"{palavra}s\"\n",
        "print(Plural('gato'))"
      ]
    },
    {
      "cell_type": "code",
      "execution_count": 5,
      "metadata": {
        "colab": {
          "base_uri": "https://localhost:8080/"
        },
        "id": "zCJ0t--e7R9S",
        "outputId": "e94f45a6-34c6-4c42-fd28-bf387aac9d5f"
      },
      "outputs": [
        {
          "output_type": "stream",
          "name": "stdout",
          "text": [
            "Help on function Plural in module __main__:\n",
            "\n",
            "Plural(palavra)\n",
            "    Adds an 's' to `palavra`.\n",
            "    \n",
            "    Args:\n",
            "        palavra (str): A string.\n",
            "    \n",
            "    Returns:\n",
            "        str: A string with 's' added to it.\n",
            "\n"
          ]
        }
      ],
      "source": [
        "help(Plural)"
      ]
    },
    {
      "cell_type": "code",
      "execution_count": 6,
      "metadata": {
        "colab": {
          "base_uri": "https://localhost:8080/"
        },
        "id": "GoVtbAQz7R9U",
        "outputId": "b177b91e-39e6-4961-e111-57ab114d9c1d"
      },
      "outputs": [
        {
          "output_type": "stream",
          "name": "stdout",
          "text": [
            "OK\n"
          ]
        }
      ],
      "source": [
        "assert Plural('rato')=='ratos', 'resultado incorreto!'\n",
        "print ('OK')"
      ]
    },
    {
      "cell_type": "markdown",
      "metadata": {
        "id": "0V8kKH-37R9V"
      },
      "source": [
        "#### **(1c) Aplicar la función a RDD**\n",
        "#### Pluralice cada palabra de nuestro RDD usando [map()] (http://spark.apache.org/docs/latest/api/python/pyspark.html#pyspark.RDD.map)\n",
        "\n",
        "#### A continuación, usaremos el comando [collect()] (http://spark.apache.org/docs/latest/api/python/pyspark.html#pyspark.RDD.collect) que devuelve el RDD como una lista de Python."
      ]
    },
    {
      "cell_type": "code",
      "execution_count": 7,
      "metadata": {
        "colab": {
          "base_uri": "https://localhost:8080/"
        },
        "id": "XnyNJoa_7R9X",
        "outputId": "27e2894d-45c0-49bd-934c-124f71d90793"
      },
      "outputs": [
        {
          "output_type": "stream",
          "name": "stdout",
          "text": [
            "['gatos', 'elefantes', 'ratos', 'ratos', 'gatos']\n"
          ]
        }
      ],
      "source": [
        "# EXERCICIO\n",
        "pluralRDD = palavrasRDD.map(Plural)\n",
        "print (pluralRDD.collect())"
      ]
    },
    {
      "cell_type": "code",
      "execution_count": 8,
      "metadata": {
        "colab": {
          "base_uri": "https://localhost:8080/"
        },
        "id": "BRGX1vhw7R9Y",
        "outputId": "572da6ed-1703-4386-bde8-76a7667473ca"
      },
      "outputs": [
        {
          "output_type": "stream",
          "name": "stdout",
          "text": [
            "OK\n"
          ]
        }
      ],
      "source": [
        "assert pluralRDD.collect()==['gatos','elefantes','ratos','ratos','gatos'], 'valores incorretos!'\n",
        "print ('OK')"
      ]
    },
    {
      "cell_type": "markdown",
      "metadata": {
        "id": "Yzo6HPPV7R9Z"
      },
      "source": [
        "#### **Nota:** use el comando `collect()` solo cuando esté seguro de que la lista cabe en la memoria. Para guardar los resultados en un archivo de texto o base de datos, usaremos otro comando."
      ]
    },
    {
      "cell_type": "markdown",
      "metadata": {
        "id": "M0rgdUKD7R9a"
      },
      "source": [
        "#### **(1d) Usando una función `lambda`**\n",
        "#### Repite la creación de un RDD plural, pero usando una función lambda."
      ]
    },
    {
      "cell_type": "code",
      "execution_count": 9,
      "metadata": {
        "colab": {
          "base_uri": "https://localhost:8080/"
        },
        "id": "-Zgdo_jj7R9b",
        "outputId": "7424236d-7a29-44b5-ed1d-aca36e064c05"
      },
      "outputs": [
        {
          "output_type": "stream",
          "name": "stdout",
          "text": [
            "['gatos', 'elefantes', 'ratos', 'ratos', 'gatos']\n"
          ]
        }
      ],
      "source": [
        "# EXERCICIO\n",
        "pluralLambdaRDD = palavrasRDD.map(lambda x: f\"{x}s\")\n",
        "print (pluralLambdaRDD.collect())"
      ]
    },
    {
      "cell_type": "code",
      "execution_count": 10,
      "metadata": {
        "colab": {
          "base_uri": "https://localhost:8080/"
        },
        "id": "hXn7a3ln7R9c",
        "outputId": "bb8d5d68-4e81-48db-c6cc-f62680b9359b"
      },
      "outputs": [
        {
          "output_type": "stream",
          "name": "stdout",
          "text": [
            "OK\n"
          ]
        }
      ],
      "source": [
        "assert pluralLambdaRDD.collect()==['gatos','elefantes','ratos','ratos','gatos'], 'valores incorretos!'\n",
        "print ('OK')"
      ]
    },
    {
      "cell_type": "markdown",
      "metadata": {
        "id": "32PH7y0M7R9d"
      },
      "source": [
        "#### **(1e) Tamaño de cada palabra**\n",
        "#### Ahora usa `map()` y una función `lambda` para devolver el número de caracteres en cada palabra. Utilice `collect()` para almacenar el resultado como listas en la variable de destino."
      ]
    },
    {
      "cell_type": "code",
      "execution_count": 11,
      "metadata": {
        "colab": {
          "base_uri": "https://localhost:8080/"
        },
        "id": "iQtIc37K7R9d",
        "outputId": "6b15934a-8edf-4189-9d81-b6c8a86d6d51"
      },
      "outputs": [
        {
          "output_type": "stream",
          "name": "stdout",
          "text": [
            "[5, 9, 5, 5, 5]\n"
          ]
        }
      ],
      "source": [
        "# EXERCICIO\n",
        "pluralTamanho = (pluralRDD\n",
        "                 .map(lambda x:len(x))\n",
        "                 .collect()\n",
        "                 )\n",
        "print (pluralTamanho)"
      ]
    },
    {
      "cell_type": "code",
      "execution_count": 12,
      "metadata": {
        "colab": {
          "base_uri": "https://localhost:8080/"
        },
        "id": "S5M2kCfI7R9e",
        "outputId": "d6a08a08-8228-4723-a11b-b05689345f63"
      },
      "outputs": [
        {
          "output_type": "stream",
          "name": "stdout",
          "text": [
            "OK\n"
          ]
        }
      ],
      "source": [
        "assert pluralTamanho==[5,9,5,5,5], 'valores incorretos'\n",
        "print (\"OK\")"
      ]
    },
    {
      "cell_type": "markdown",
      "metadata": {
        "id": "fKMMmvOR7R9f"
      },
      "source": [
        "#### **(1f) RDD de pares y tuplas**\n",
        "\n",
        "#### Para contar la frecuencia de cada palabra de forma distribuida, primero debemos asignar un valor a cada palabra en el RDD. Esto generará una base de datos (clave, valor). De esta forma podemos agrupar la base mediante la clave, calculando la suma de los valores asignados. En nuestro caso, asignemos el valor `1` a cada palabra.\n",
        "\n",
        "#### Un RDD que contiene la estructura de tupla clave-valor `(k, v)` se denomina RDD de tupla o * RDD de par *.\n",
        "\n",
        "#### Vamos a crear nuestro RDD a partir de pares usando la transformación `map ()` con una función `lambda ()`."
      ]
    },
    {
      "cell_type": "code",
      "execution_count": 13,
      "metadata": {
        "colab": {
          "base_uri": "https://localhost:8080/"
        },
        "id": "tSNfUswM7R9g",
        "outputId": "f980ae75-5b28-46b4-f66b-7cc23574c56a"
      },
      "outputs": [
        {
          "output_type": "stream",
          "name": "stdout",
          "text": [
            "[('gato', 1), ('elefante', 1), ('rato', 1), ('rato', 1), ('gato', 1)]\n"
          ]
        }
      ],
      "source": [
        "# EXERCICIO\n",
        "palavraPar = palavrasRDD.map(lambda x: (x, 1))\n",
        "print (palavraPar.collect())"
      ]
    },
    {
      "cell_type": "code",
      "execution_count": 14,
      "metadata": {
        "colab": {
          "base_uri": "https://localhost:8080/"
        },
        "id": "xKoNKS-17R9g",
        "outputId": "33a5a2dd-b14a-47e0-ecf8-fe75530d0734"
      },
      "outputs": [
        {
          "output_type": "stream",
          "name": "stdout",
          "text": [
            "OK\n"
          ]
        }
      ],
      "source": [
        "assert palavraPar.collect() == [('gato',1),('elefante',1),('rato',1),('rato',1),('gato',1)], 'valores incorretos!'\n",
        "print (\"OK\")"
      ]
    },
    {
      "cell_type": "markdown",
      "metadata": {
        "id": "rkJ1piZz7R9p"
      },
      "source": [
        "### **Parte 2: Manipulación de Tuplas RDD**"
      ]
    },
    {
      "cell_type": "markdown",
      "metadata": {
        "id": "Qf8vN7hP7R9q"
      },
      "source": [
        "#### Manipulemos nuestro RDD para contar las palabras en el texto."
      ]
    },
    {
      "cell_type": "markdown",
      "metadata": {
        "id": "R5M3n6_U7R9q"
      },
      "source": [
        "#### **(2a) Función `groupByKey ()`**\n",
        "\n",
        "#### La función [groupByKey ()] (http://spark.apache.org/docs/latest/api/python/pyspark.html#pyspark.RDD.groupByKey) agrupa todos los valores de un RDD por clave (primer elemento de la tupla) agregando los valores en una lista.\n",
        "\n",
        "#### Este enfoque tiene una debilidad porque:\n",
        "   + #### La operación requiere que los datos seccionados se muevan de forma masiva para que permanezcan en la partición correcta.\n",
        "   + #### Las listas pueden llegar a ser muy largas. Imagínese contar todas las palabras en Wikipedia: términos comunes como \"a\", \"e\" formarán una lista enorme de valores que podrían no caber en la memoria del proceso esclavo."
      ]
    },
    {
      "cell_type": "code",
      "execution_count": 15,
      "metadata": {
        "colab": {
          "base_uri": "https://localhost:8080/"
        },
        "id": "x2VBmneS7R9r",
        "outputId": "6dc4ae62-235c-49d7-e708-e09270759aa7"
      },
      "outputs": [
        {
          "output_type": "stream",
          "name": "stdout",
          "text": [
            "elefante: [1]\n",
            "rato: [1, 1]\n",
            "gato: [1, 1]\n"
          ]
        }
      ],
      "source": [
        "# EXERCICIO\n",
        "palavrasGrupo = palavraPar.groupByKey()\n",
        "for chave, valor in palavrasGrupo.collect():\n",
        "    valores = list(valor)\n",
        "    print(f'{chave}: {valores}')"
      ]
    },
    {
      "cell_type": "code",
      "execution_count": 16,
      "metadata": {
        "colab": {
          "base_uri": "https://localhost:8080/"
        },
        "id": "ten9oHk57R9r",
        "outputId": "cb369326-0702-4fef-ec6a-3241e1da1bcf"
      },
      "outputs": [
        {
          "output_type": "stream",
          "name": "stdout",
          "text": [
            "OK\n"
          ]
        }
      ],
      "source": [
        "assert sorted(palavrasGrupo.mapValues(lambda x: list(x)).collect()) == [('elefante', [1]), ('gato',[1, 1]), ('rato',[1, 1])], 'Valores incorretos!'\n",
        "print (\"OK\")"
      ]
    },
    {
      "cell_type": "markdown",
      "metadata": {
        "id": "_NYvyPM17R9s"
      },
      "source": [
        "#### **(2b) Cálculo de los recuentos**\n",
        "#### Después de `groupByKey()` nuestro RDD contiene elementos compuestos por la palabra, como clave, y un iterador que contiene todos los valores correspondientes a esa clave.\n",
        "#### Usando la transformación `map()` y la función `sum()`, construye un nuevo RDD que consta de tuplas (clave, suma)."
      ]
    },
    {
      "cell_type": "code",
      "execution_count": 17,
      "metadata": {
        "colab": {
          "base_uri": "https://localhost:8080/"
        },
        "id": "rncpIx0X7R9t",
        "outputId": "8ba8f55b-648c-42e3-e794-930ef1314baf"
      },
      "outputs": [
        {
          "output_type": "stream",
          "name": "stdout",
          "text": [
            "[('elefante', 1), ('rato', 2), ('gato', 2)]\n"
          ]
        }
      ],
      "source": [
        "# EXERCICIO\n",
        "contagemGroup = palavrasGrupo.map(lambda x:(x[0],sum(x[1])))\n",
        "print (contagemGroup.collect())"
      ]
    },
    {
      "cell_type": "code",
      "execution_count": 18,
      "metadata": {
        "colab": {
          "base_uri": "https://localhost:8080/"
        },
        "id": "DgimY8p67R9t",
        "outputId": "08273f72-fd9c-4233-cc9b-bb7a9a58bdc2"
      },
      "outputs": [
        {
          "output_type": "stream",
          "name": "stdout",
          "text": [
            "OK\n"
          ]
        }
      ],
      "source": [
        "assert sorted(contagemGroup.collect())==[('elefante',1), ('gato',2), ('rato',2)], 'valores incorretos!'\n",
        "print (\"OK\")"
      ]
    },
    {
      "cell_type": "markdown",
      "metadata": {
        "id": "G6tP0p9u7R9u"
      },
      "source": [
        "#### **(2c) `reduceByKey`**\n",
        "#### Un comando más interesante para contar es [reduceByKey ()] (http://spark.apache.org/docs/latest/api/python/pyspark.html#pyspark.RDD.reduceByKey) que crea un nuevo RDD de tuplas.\n",
        "\n",
        "#### Esta transformación aplica la transformación `reduce()` vista en la lección anterior a los valores de cada clave. De esta manera, la función de transformación puede aplicarse a cada partición local y luego enviarse para la redistribución de la partición, reduciendo la cantidad de datos que se mueven y no manteniendo grandes listas en la memoria."
      ]
    },
    {
      "cell_type": "code",
      "execution_count": 19,
      "metadata": {
        "colab": {
          "base_uri": "https://localhost:8080/"
        },
        "id": "xVuRVAL07R9v",
        "outputId": "50439488-9435-4aa7-d97c-1588f8c69e5e"
      },
      "outputs": [
        {
          "output_type": "stream",
          "name": "stdout",
          "text": [
            "[('elefante', 1), ('rato', 2), ('gato', 2)]\n"
          ]
        }
      ],
      "source": [
        "# EXERCICIO\n",
        "contagem = palavraPar.reduceByKey(lambda x,y:x+y)\n",
        "print( contagem.collect())"
      ]
    },
    {
      "cell_type": "code",
      "execution_count": 20,
      "metadata": {
        "colab": {
          "base_uri": "https://localhost:8080/"
        },
        "id": "APVc44LK7R9v",
        "outputId": "793fc027-85bd-4d4a-b9e5-5693dcf48af1"
      },
      "outputs": [
        {
          "output_type": "stream",
          "name": "stdout",
          "text": [
            "OK\n"
          ]
        }
      ],
      "source": [
        "assert sorted(contagem.collect())==[('elefante',1), ('gato',2), ('rato',2)], 'valores incorretos!'\n",
        "print (\"OK\")"
      ]
    },
    {
      "cell_type": "markdown",
      "metadata": {
        "id": "ydDWAhDJ7R9w"
      },
      "source": [
        "#### **(2d) Comandos de agrupación**\n",
        "\n",
        "#### La forma más común de realizar esta tarea, a partir de nuestras RDD RDDwords, es encadenar el mapa y los comandos reduceByKey en una línea de comando."
      ]
    },
    {
      "cell_type": "code",
      "execution_count": 21,
      "metadata": {
        "colab": {
          "base_uri": "https://localhost:8080/"
        },
        "id": "AMws_DGd7R9w",
        "outputId": "3db6839a-f37c-4dee-e429-f72ec7887e25"
      },
      "outputs": [
        {
          "output_type": "stream",
          "name": "stdout",
          "text": [
            "[('elefante', 1), ('rato', 2), ('gato', 2)]\n"
          ]
        }
      ],
      "source": [
        "# EXERCICIO\n",
        "contagemFinal = (palavrasRDD\n",
        "                 .map(lambda x: (x, 1)).reduceByKey(lambda x, y: x + y)\n",
        "                 .collect())\n",
        "print (contagemFinal)"
      ]
    },
    {
      "cell_type": "code",
      "execution_count": 22,
      "metadata": {
        "colab": {
          "base_uri": "https://localhost:8080/"
        },
        "id": "zgMDKPy37R9x",
        "outputId": "964cae71-45a7-4b60-b500-648b9f95601f"
      },
      "outputs": [
        {
          "output_type": "stream",
          "name": "stdout",
          "text": [
            "OK\n"
          ]
        }
      ],
      "source": [
        "assert sorted(contagemFinal)==[('elefante',1), ('gato',2), ('rato',2)], 'valores incorretos!'\n",
        "print (\"OK\")"
      ]
    },
    {
      "cell_type": "markdown",
      "metadata": {
        "id": "fajmnelA7R9x"
      },
      "source": [
        "### **Parte 3: Encontrar las palabras únicas y calcular el recuento promedio**"
      ]
    },
    {
      "cell_type": "markdown",
      "metadata": {
        "id": "Dx3h3YJU7R9y"
      },
      "source": [
        "#### **(3a) Palabras únicas**\n",
        "\n",
        "#### Calcula el número de palabras únicas en RDD. Utilice la misma canalización que antes pero reemplazando `.collect()` con otro método de API RDD."
      ]
    },
    {
      "cell_type": "code",
      "execution_count": 23,
      "metadata": {
        "colab": {
          "base_uri": "https://localhost:8080/"
        },
        "id": "BgxbHkEJ7R9y",
        "outputId": "82933e51-b067-4238-d52b-342cce14c88f"
      },
      "outputs": [
        {
          "output_type": "stream",
          "name": "stdout",
          "text": [
            "3\n"
          ]
        }
      ],
      "source": [
        "# EXERCICIO\n",
        "palavrasUnicas = palavrasRDD.distinct().count()\n",
        "print (palavrasUnicas)"
      ]
    },
    {
      "cell_type": "code",
      "execution_count": 24,
      "metadata": {
        "colab": {
          "base_uri": "https://localhost:8080/"
        },
        "id": "GrgHjPbV7R9z",
        "outputId": "b3da9405-8760-49a7-f25f-24a7693e86a5"
      },
      "outputs": [
        {
          "output_type": "stream",
          "name": "stdout",
          "text": [
            "OK\n"
          ]
        }
      ],
      "source": [
        "assert palavrasUnicas==3, 'valor incorreto!'\n",
        "print (\"OK\")"
      ]
    },
    {
      "cell_type": "markdown",
      "metadata": {
        "id": "tQElU4pN7R9z"
      },
      "source": [
        "#### **(3b) Cálculo del recuento promedio de palabras**\n",
        "\n",
        "#### Encuentra la frecuencia promedio de palabras usando RDD `count`.\n",
        "\n",
        "#### Tenga en cuenta que la función de comando `reduce()` se aplica a cada tupla de RDD. Para realizar la suma de los recuentos, primero es necesario mapear el RDD a un RDD que contenga solo los valores de frecuencia (sin las claves)."
      ]
    },
    {
      "cell_type": "code",
      "execution_count": 25,
      "metadata": {
        "colab": {
          "base_uri": "https://localhost:8080/"
        },
        "id": "i7w8pNr07R90",
        "outputId": "d555fd24-8a02-4e8b-ca48-c52b597341bd"
      },
      "outputs": [
        {
          "output_type": "stream",
          "name": "stdout",
          "text": [
            "5\n",
            "1.67\n"
          ]
        }
      ],
      "source": [
        "# EXERCICIO\n",
        "# add é equivalente a lambda x,y: x+y\n",
        "from operator import add\n",
        "total = (contagem\n",
        "         .map(lambda x: x[1])\n",
        "         .reduce(add)) \n",
        "media = total / float(palavrasUnicas)\n",
        "print (total)\n",
        "print (round(media, 2))"
      ]
    },
    {
      "cell_type": "code",
      "execution_count": 26,
      "metadata": {
        "colab": {
          "base_uri": "https://localhost:8080/"
        },
        "id": "4PruM_GW7R90",
        "outputId": "3edb0ec8-132a-4c05-9be0-6ea2feeecbb5"
      },
      "outputs": [
        {
          "output_type": "stream",
          "name": "stdout",
          "text": [
            "OK\n"
          ]
        }
      ],
      "source": [
        "assert round(media, 2)==1.67, 'valores incorretos!'\n",
        "print (\"OK\")"
      ]
    },
    {
      "cell_type": "markdown",
      "metadata": {
        "id": "Q17IGTZu7R90"
      },
      "source": [
        "### **Parte 4: Aplicar nuestro algoritmo a un archivo**"
      ]
    },
    {
      "cell_type": "markdown",
      "metadata": {
        "id": "CcndmVnM7R91"
      },
      "source": [
        "#### ** (4a) Función `contaPalavras` **\n",
        "\n",
        "#### Para aplicar nuestro algoritmo genéricamente a múltiples RDD, primero creemos una función para aplicarla a cualquier fuente de datos. Esta función recibe la entrada de un RDD que contiene una lista de claves (palabras) y devuelve un RDD de tuplas con las claves y su recuento en ese RDD"
      ]
    },
    {
      "cell_type": "code",
      "execution_count": 27,
      "metadata": {
        "colab": {
          "base_uri": "https://localhost:8080/"
        },
        "id": "REC6Y4oh7R91",
        "outputId": "d0027e80-9f0e-406d-f908-57ce8f1551a5"
      },
      "outputs": [
        {
          "output_type": "stream",
          "name": "stdout",
          "text": [
            "[('elefante', 1), ('rato', 2), ('gato', 2)]\n"
          ]
        }
      ],
      "source": [
        "# EXERCICIO\n",
        "def contaPalavras(chavesRDD):\n",
        "    \"\"\"Creates a pair RDD with word counts from an RDD of words.\n",
        "\n",
        "    Args:\n",
        "        chavesRDD (RDD of str): An RDD consisting of words.\n",
        "\n",
        "    Returns:\n",
        "        RDD of (str, int): An RDD consisting of (word, count) tuples.\n",
        "    \"\"\"\n",
        "    return (chavesRDD\n",
        "            .map(lambda x: (x, 1))\n",
        "            .reduceByKey(lambda x, y: x + y))\n",
        "print (contaPalavras(palavrasRDD).collect())"
      ]
    },
    {
      "cell_type": "code",
      "execution_count": 28,
      "metadata": {
        "colab": {
          "base_uri": "https://localhost:8080/"
        },
        "id": "smSi3iyx7R92",
        "outputId": "347abe5d-4785-442f-d9c2-2ef10dafb996"
      },
      "outputs": [
        {
          "output_type": "stream",
          "name": "stdout",
          "text": [
            "OK\n"
          ]
        }
      ],
      "source": [
        "assert sorted(contaPalavras(palavrasRDD).collect())==[('elefante',1), ('gato',2), ('rato',2)], 'valores incorretos!'\n",
        "print (\"OK\")"
      ]
    },
    {
      "cell_type": "markdown",
      "metadata": {
        "id": "jTNVRCpl7R92"
      },
      "source": [
        "#### ** (4b) Normalizando el texto **\n",
        "\n",
        "#### Cuando trabajamos con datos reales, normalmente necesitamos estandarizar los atributos de tal manera que se ignoren las diferencias sutiles debidas a errores de medición o diferencias de estandarización. Para el siguiente paso, estandarizaremos el texto para:\n",
        "   + #### Estandarizar las mayúsculas de las palabras (todas en mayúsculas o todas en minúsculas).\n",
        "   + #### Eliminar puntuación.\n",
        "   + #### Eliminar espacios al principio y al final de la palabra.\n",
        " \n",
        "#### Crea una función `removerPontuacao` que convierte todo el texto a minúsculas, elimina los signos de puntuación y los espacios en blanco al principio o al final de la palabra. Para esto, use la biblioteca [re] (https://docs.python.org/2/library/re.html) para eliminar todo el texto que no sea letra, número o espacio, enlazando con las funciones de cadena para eliminar los espacios en blanco y convertir a minúsculas (consulte [Cadenas] (https://docs.python.org/2/library/stdtypes.html?highlight=str.lower#string-methods))."
      ]
    },
    {
      "cell_type": "code",
      "execution_count": 29,
      "metadata": {
        "colab": {
          "base_uri": "https://localhost:8080/"
        },
        "id": "IC8Oq-v07R93",
        "outputId": "bb853f29-806e-49cc-9478-7341778a496b"
      },
      "outputs": [
        {
          "output_type": "stream",
          "name": "stdout",
          "text": [
            "ola quem esta ai\n",
            "sem espaco esublinhado\n"
          ]
        }
      ],
      "source": [
        "# EXERCICIO\n",
        "import re\n",
        "def removerPontuacao(texto):\n",
        "    \"\"\"Removes punctuation, changes to lower case, and strips leading and trailing spaces.\n",
        "\n",
        "    Note:\n",
        "        Only spaces, letters, and numbers should be retained.  Other characters should should be\n",
        "        eliminated (e.g. it's becomes its).  Leading and trailing spaces should be removed after\n",
        "        punctuation is removed.\n",
        "\n",
        "    Args:\n",
        "        texto (str): A string.\n",
        "\n",
        "    Returns:\n",
        "        str: The cleaned up string.\n",
        "    \"\"\"\n",
        "    return re.sub(r'[^A-Za-z0-9 ]', '', texto).strip().lower()\n",
        "print (removerPontuacao('Ola, quem esta ai??!'))\n",
        "print (removerPontuacao(' Sem espaco e_sublinhado!'))"
      ]
    },
    {
      "cell_type": "code",
      "execution_count": 30,
      "metadata": {
        "colab": {
          "base_uri": "https://localhost:8080/"
        },
        "id": "0HiqKFkJ7R94",
        "outputId": "abf53e32-b5d7-4e16-d4a7-6901499c6874"
      },
      "outputs": [
        {
          "output_type": "stream",
          "name": "stdout",
          "text": [
            "OK\n"
          ]
        }
      ],
      "source": [
        "assert removerPontuacao(' O uso de virgulas, embora permitido, nao deve contar. ')=='o uso de virgulas embora permitido nao deve contar', 'string incorreta!'\n",
        "print (\"OK\")"
      ]
    },
    {
      "cell_type": "markdown",
      "metadata": {
        "id": "5iYgz0ym7R94"
      },
      "source": [
        "#### **(4c) Cargando archivo de texto**\n",
        "\n",
        "#### Para la siguiente parte usaremos el libro [Obras completas de William Shakespeare] (http://www.gutenberg.org/ebooks/100) de [Proyecto Gutenberg] (http://www.gutenberg.org / wiki / Página_principal).\n",
        "\n",
        "#### Para convertir un texto en un RDD, usamos la función `textFile()` que toma como entrada el nombre del archivo de texto que queremos usar y el número de particiones.\n",
        "\n",
        "#### El nombre del archivo de texto puede hacer referencia a un archivo local o un URI de archivo distribuido (por ejemplo, hdfs: //).\n",
        "\n",
        "#### Apliquemos también la función `removeScore()` para normalizar el texto y verifiquemos las primeras 15 líneas con el comando `take()`."
      ]
    },
    {
      "cell_type": "markdown",
      "metadata": {
        "id": "slwk36ER9EUk"
      },
      "source": [
        "\n",
        "\n",
        "> cuando se trabaja en google colab lo unico seria subir el archivo pg100.txt entonces para abrir el archivo en codigo seria  solo direccionar `pg100.txt`\n",
        "![image.png](data:image/png;base64,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)\n"
      ]
    },
    {
      "cell_type": "code",
      "execution_count": 31,
      "metadata": {
        "colab": {
          "base_uri": "https://localhost:8080/"
        },
        "id": "68lP3QiH7R95",
        "outputId": "cc562239-f020-4158-a2d2-d4ca8651fcdf"
      },
      "outputs": [
        {
          "output_type": "stream",
          "name": "stdout",
          "text": [
            ": 0\n",
            "project gutenbergs the complete works of william shakespeare by william: 1\n",
            "shakespeare: 2\n",
            ": 3\n",
            "this ebook is for the use of anyone anywhere in the united states and: 4\n",
            "most other parts of the world at no cost and with almost no restrictions: 5\n",
            "whatsoever  you may copy it give it away or reuse it under the terms: 6\n",
            "of the project gutenberg license included with this ebook or online at: 7\n",
            "wwwgutenbergorg  if you are not located in the united states youll: 8\n",
            "have to check the laws of the country where you are located before using: 9\n",
            "this ebook: 10\n",
            ": 11\n",
            "see at the end of this file  content note added in 2017: 12\n",
            ": 13\n",
            ": 14\n"
          ]
        }
      ],
      "source": [
        "# Apenas execute a célula\n",
        "\n",
        "# lê o arquivo com textFile e aplica a função removerPontuacao        \n",
        "shakesRDD = (sc.textFile('pg100.txt', 8).map(removerPontuacao))\n",
        "\n",
        "# zipWithIndex gera tuplas (conteudo, indice) onde indice é a posição do conteudo na lista sequencial\n",
        "# Ex.: sc.parallelize(['gato','cachorro','boi']).zipWithIndex() ==> [('gato',0), ('cachorro',1), ('boi',2)]\n",
        "# sep.join() junta as strings de uma lista através do separador sep. Ex.: ','.join(['a','b','c']) ==> 'a,b,c'\n",
        "print ('\\n'.join(shakesRDD.zipWithIndex().map(lambda linha: '{0}: {1}'.format(linha[0],linha[1])).take(15)))"
      ]
    },
    {
      "cell_type": "markdown",
      "metadata": {
        "id": "e2FlGLuL7R95"
      },
      "source": [
        "#### **(4d) Extrayendo las palabras**\n",
        "#### Antes de que podamos usar nuestra función `contaPalavras()`, todavía tenemos que trabajar sobre nuestro RDD:\n",
        "   + #### Necesitamos generar listas de palabras en lugar de listas de oraciones.\n",
        "   + #### Eliminar líneas vacías.\n",
        " \n",
        "#### Las cadenas de Python tienen el método [split ()] (https://docs.python.org/2/library/string.html#string.split) que separa una cadena por un separador. En nuestro caso, queremos separar las cadenas por espacio.\n",
        "\n",
        "#### Usa la función `map()` para generar un nuevo RDD como lista de palabras."
      ]
    },
    {
      "cell_type": "code",
      "execution_count": 32,
      "metadata": {
        "colab": {
          "base_uri": "https://localhost:8080/"
        },
        "id": "_vxUdcM97R96",
        "outputId": "85abaab8-4ef6-45f6-98ac-1268a92a1ae5"
      },
      "outputs": [
        {
          "output_type": "stream",
          "name": "stdout",
          "text": [
            "['', 'project', 'gutenbergs', 'the', 'complete']\n",
            "536263\n"
          ]
        }
      ],
      "source": [
        "# EXERCICIO\n",
        "shakesPalavrasRDD = shakesRDD.flatMap(lambda x: x.split(\" \"))\n",
        "total = shakesPalavrasRDD.count()\n",
        "print (shakesPalavrasRDD.take(5))\n",
        "print (total)"
      ]
    },
    {
      "cell_type": "markdown",
      "metadata": {
        "id": "AUeSCTta7R96"
      },
      "source": [
        "#### Como habrás notado, el uso de la función `map()` genera una lista para cada línea, creando un RDD que contiene una lista de listas.\n",
        "\n",
        "#### Para resolver este problema, Spark tiene una función análoga llamada `flatMap ()` que aplica la transformación `map()`, pero *aplana* el retorno en forma de lista a una lista unidimensional."
      ]
    },
    {
      "cell_type": "code",
      "execution_count": 33,
      "metadata": {
        "colab": {
          "base_uri": "https://localhost:8080/"
        },
        "id": "8m7lREgJ7R97",
        "outputId": "2123cb0c-588c-4446-aa58-ab24ae1330ec"
      },
      "outputs": [
        {
          "output_type": "stream",
          "name": "stdout",
          "text": [
            "['project', 'gutenbergs', 'the', 'complete', 'works']\n",
            "514230\n"
          ]
        }
      ],
      "source": [
        "# EXERCICIO\n",
        "shakesPalavrasRDD = shakesRDD.flatMap(lambda x: x.split())\n",
        "total = shakesPalavrasRDD.count()\n",
        "print (shakesPalavrasRDD.take(5))\n",
        "print (total)"
      ]
    },
    {
      "cell_type": "code",
      "execution_count": 35,
      "metadata": {
        "colab": {
          "base_uri": "https://localhost:8080/",
          "height": 235
        },
        "id": "6PcRT7CY7R97",
        "outputId": "b820319d-c23a-48f2-9a1c-72ac41c7fc5e"
      },
      "outputs": [
        {
          "output_type": "error",
          "ename": "AssertionError",
          "evalue": "ignored",
          "traceback": [
            "\u001b[0;31m---------------------------------------------------------------------------\u001b[0m",
            "\u001b[0;31mAssertionError\u001b[0m                            Traceback (most recent call last)",
            "\u001b[0;32m<ipython-input-35-2a35a92f0004>\u001b[0m in \u001b[0;36m<module>\u001b[0;34m()\u001b[0m\n\u001b[0;32m----> 1\u001b[0;31m \u001b[0;32massert\u001b[0m \u001b[0mtotal\u001b[0m\u001b[0;34m==\u001b[0m\u001b[0;36m959359\u001b[0m\u001b[0;34m,\u001b[0m \u001b[0;34m\"valor incorreto de palavras!\"\u001b[0m\u001b[0;34m\u001b[0m\u001b[0;34m\u001b[0m\u001b[0m\n\u001b[0m\u001b[1;32m      2\u001b[0m \u001b[0mprint\u001b[0m \u001b[0;34m(\u001b[0m\u001b[0;34m\"OK\"\u001b[0m\u001b[0;34m)\u001b[0m\u001b[0;34m\u001b[0m\u001b[0;34m\u001b[0m\u001b[0m\n\u001b[1;32m      3\u001b[0m \u001b[0;32massert\u001b[0m \u001b[0mshakesPalavrasRDD\u001b[0m\u001b[0;34m.\u001b[0m\u001b[0mtake\u001b[0m\u001b[0;34m(\u001b[0m\u001b[0;36m5\u001b[0m\u001b[0;34m)\u001b[0m\u001b[0;34m==\u001b[0m\u001b[0;34m[\u001b[0m\u001b[0;34m'project'\u001b[0m\u001b[0;34m,\u001b[0m \u001b[0;34m'gutenbergs'\u001b[0m\u001b[0;34m,\u001b[0m \u001b[0;34m'the'\u001b[0m\u001b[0;34m,\u001b[0m \u001b[0;34m'complete'\u001b[0m\u001b[0;34m,\u001b[0m \u001b[0;34m'works'\u001b[0m\u001b[0;34m]\u001b[0m\u001b[0;34m,\u001b[0m\u001b[0;34m'lista incorreta de palavras'\u001b[0m\u001b[0;34m\u001b[0m\u001b[0;34m\u001b[0m\u001b[0m\n\u001b[1;32m      4\u001b[0m \u001b[0mprint\u001b[0m \u001b[0;34m(\u001b[0m\u001b[0;34m\"OK\"\u001b[0m\u001b[0;34m)\u001b[0m\u001b[0;34m\u001b[0m\u001b[0;34m\u001b[0m\u001b[0m\n",
            "\u001b[0;31mAssertionError\u001b[0m: valor incorreto de palavras!"
          ]
        }
      ],
      "source": [
        "assert total==959359, \"valor incorreto de palavras!\"\n",
        "print (\"OK\")\n",
        "assert shakesPalavrasRDD.take(5)==['project', 'gutenbergs', 'the', 'complete', 'works'],'lista incorreta de palavras'\n",
        "print (\"OK\")"
      ]
    },
    {
      "cell_type": "markdown",
      "metadata": {
        "id": "pGlpiwuP7R98"
      },
      "source": [
        "#### Tenga en cuenta que `flatMap` ya ha eliminado las entradas vacías."
      ]
    },
    {
      "cell_type": "markdown",
      "metadata": {
        "id": "6hnOX3FJ7R98"
      },
      "source": [
        "#### ** (4f) Número de palabras **\n",
        "#### Ahora que nuestro RDD contiene una lista de palabras, podemos aplicar nuestra función `contaPalavras()`.\n",
        "\n",
        "#### Aplica la función a nuestro RDD y usa la función `takeOrdered` para imprimir las 15 palabras más frecuentes.\n",
        "\n",
        "#### `takeOrdered()` puede tomar un segundo parámetro que le dice a Spark cómo ordenar los elementos. Ex.:\n",
        "\n",
        "#### `takeOrdered (15, key=lambda x: -x)`: orden descendente de valores x"
      ]
    },
    {
      "cell_type": "code",
      "execution_count": 36,
      "metadata": {
        "colab": {
          "base_uri": "https://localhost:8080/"
        },
        "id": "9xeM9wUj7R98",
        "outputId": "08c95db0-ddb1-476b-d030-f2e4244c0683"
      },
      "outputs": [
        {
          "output_type": "stream",
          "name": "stdout",
          "text": [
            "the: 16982\n",
            "and: 15320\n",
            "i: 11270\n",
            "to: 11190\n",
            "of: 10963\n",
            "a: 8353\n",
            "you: 7695\n",
            "my: 6930\n",
            "in: 6502\n",
            "that: 6363\n",
            "is: 5095\n",
            "not: 4799\n",
            "with: 4481\n",
            "it: 4448\n",
            "for: 4320\n"
          ]
        }
      ],
      "source": [
        "# EXERCICIO\n",
        "top15 = contaPalavras(shakesPalavrasRDD).sortBy(lambda x: x[1], ascending=False).take(15) \n",
        "print ('\\n'.join(map(lambda x: f'{x[0]}: {x[1]}', top15)))"
      ]
    },
    {
      "cell_type": "code",
      "execution_count": 37,
      "metadata": {
        "colab": {
          "base_uri": "https://localhost:8080/",
          "height": 217
        },
        "id": "oVQlxqWA7R99",
        "outputId": "764d46df-95b9-4963-e051-09df33f70955"
      },
      "outputs": [
        {
          "output_type": "error",
          "ename": "AssertionError",
          "evalue": "ignored",
          "traceback": [
            "\u001b[0;31m---------------------------------------------------------------------------\u001b[0m",
            "\u001b[0;31mAssertionError\u001b[0m                            Traceback (most recent call last)",
            "\u001b[0;32m<ipython-input-37-0c7127384626>\u001b[0m in \u001b[0;36m<module>\u001b[0;34m()\u001b[0m\n\u001b[0;32m----> 1\u001b[0;31m \u001b[0;32massert\u001b[0m \u001b[0mtop15\u001b[0m \u001b[0;34m==\u001b[0m \u001b[0;34m[\u001b[0m\u001b[0;34m(\u001b[0m\u001b[0;34m'the'\u001b[0m\u001b[0;34m,\u001b[0m \u001b[0;36m29996\u001b[0m\u001b[0;34m)\u001b[0m\u001b[0;34m,\u001b[0m \u001b[0;34m(\u001b[0m\u001b[0;34m'and'\u001b[0m\u001b[0;34m,\u001b[0m \u001b[0;36m28353\u001b[0m\u001b[0;34m)\u001b[0m\u001b[0;34m,\u001b[0m \u001b[0;34m(\u001b[0m\u001b[0;34m'i'\u001b[0m\u001b[0;34m,\u001b[0m \u001b[0;36m21860\u001b[0m\u001b[0;34m)\u001b[0m\u001b[0;34m,\u001b[0m \u001b[0;34m(\u001b[0m\u001b[0;34m'to'\u001b[0m\u001b[0;34m,\u001b[0m \u001b[0;36m20885\u001b[0m\u001b[0;34m)\u001b[0m\u001b[0;34m,\u001b[0m \u001b[0;34m(\u001b[0m\u001b[0;34m'of'\u001b[0m\u001b[0;34m,\u001b[0m \u001b[0;36m18811\u001b[0m\u001b[0;34m)\u001b[0m\u001b[0;34m,\u001b[0m \u001b[0;34m(\u001b[0m\u001b[0;34m'a'\u001b[0m\u001b[0;34m,\u001b[0m \u001b[0;36m15992\u001b[0m\u001b[0;34m)\u001b[0m\u001b[0;34m,\u001b[0m \u001b[0;34m(\u001b[0m\u001b[0;34m'you'\u001b[0m\u001b[0;34m,\u001b[0m \u001b[0;36m14439\u001b[0m\u001b[0;34m)\u001b[0m\u001b[0;34m,\u001b[0m \u001b[0;34m(\u001b[0m\u001b[0;34m'my'\u001b[0m\u001b[0;34m,\u001b[0m \u001b[0;36m13191\u001b[0m\u001b[0;34m)\u001b[0m\u001b[0;34m,\u001b[0m \u001b[0;34m(\u001b[0m\u001b[0;34m'in'\u001b[0m\u001b[0;34m,\u001b[0m \u001b[0;36m12027\u001b[0m\u001b[0;34m)\u001b[0m\u001b[0;34m,\u001b[0m \u001b[0;34m(\u001b[0m\u001b[0;34m'that'\u001b[0m\u001b[0;34m,\u001b[0m \u001b[0;36m11782\u001b[0m\u001b[0;34m)\u001b[0m\u001b[0;34m,\u001b[0m \u001b[0;34m(\u001b[0m\u001b[0;34m'is'\u001b[0m\u001b[0;34m,\u001b[0m \u001b[0;36m9711\u001b[0m\u001b[0;34m)\u001b[0m\u001b[0;34m,\u001b[0m \u001b[0;34m(\u001b[0m\u001b[0;34m'not'\u001b[0m\u001b[0;34m,\u001b[0m \u001b[0;36m9068\u001b[0m\u001b[0;34m)\u001b[0m\u001b[0;34m,\u001b[0m \u001b[0;34m(\u001b[0m\u001b[0;34m'with'\u001b[0m\u001b[0;34m,\u001b[0m \u001b[0;36m8521\u001b[0m\u001b[0;34m)\u001b[0m\u001b[0;34m,\u001b[0m \u001b[0;34m(\u001b[0m\u001b[0;34m'me'\u001b[0m\u001b[0;34m,\u001b[0m \u001b[0;36m8271\u001b[0m\u001b[0;34m)\u001b[0m\u001b[0;34m,\u001b[0m \u001b[0;34m(\u001b[0m\u001b[0;34m'for'\u001b[0m\u001b[0;34m,\u001b[0m \u001b[0;36m8184\u001b[0m\u001b[0;34m)\u001b[0m\u001b[0;34m]\u001b[0m\u001b[0;34m,\u001b[0m\u001b[0;34m'valores incorretos!'\u001b[0m\u001b[0;34m\u001b[0m\u001b[0;34m\u001b[0m\u001b[0m\n\u001b[0m\u001b[1;32m      2\u001b[0m \u001b[0mprint\u001b[0m \u001b[0;34m(\u001b[0m\u001b[0;34m\"OK\"\u001b[0m\u001b[0;34m)\u001b[0m\u001b[0;34m\u001b[0m\u001b[0;34m\u001b[0m\u001b[0m\n",
            "\u001b[0;31mAssertionError\u001b[0m: valores incorretos!"
          ]
        }
      ],
      "source": [
        "assert top15 == [('the', 29996), ('and', 28353), ('i', 21860), ('to', 20885), ('of', 18811), ('a', 15992), ('you', 14439), ('my', 13191), ('in', 12027), ('that', 11782), ('is', 9711), ('not', 9068), ('with', 8521), ('me', 8271), ('for', 8184)],'valores incorretos!'\n",
        "print (\"OK\")"
      ]
    },
    {
      "cell_type": "markdown",
      "metadata": {
        "id": "auuxZZlf7R99"
      },
      "source": [
        "### **Parte 5: Similaridad entre Objetos**"
      ]
    },
    {
      "cell_type": "markdown",
      "metadata": {
        "id": "Qyk7eDat7R9-"
      },
      "source": [
        "### En esta parte del laboratorio aprenderemos a calcular la distancia entre atributos numéricos, categóricos y textuales."
      ]
    },
    {
      "cell_type": "markdown",
      "metadata": {
        "id": "Sjr6YYCC7R9-"
      },
      "source": [
        "#### ** (5a) Vectores en el espacio euclidiano **\n",
        "\n",
        "#### Cuando nuestros objetos están representados en el espacio euclidiano, medimos la similitud entre ellos a través de la *p-Norma* definida por:\n",
        "\n",
        "#### $$d(x,y,p) = (\\sum_{i=1}^{n}{|x_i - y_i|^p})^{1/p}$$\n",
        "\n",
        "#### Las normas más utilizadas son $p=1,2,\\infty$ que reducen en distancia absoluta, Euclidiana y distancia máxima:\n",
        "\n",
        "#### $$d(x,y,1) = \\sum_{i=1}^{n}{|x_i - y_i|}$$\n",
        "\n",
        "#### $$d(x,y,2) = (\\sum_{i=1}^{n}{|x_i - y_i|^2})^{1/2}$$\n",
        "\n",
        "#### $$d(x,y,\\infty) = \\max(|x_1 - y_1|,|x_2 - y_2|, ..., |x_n - y_n|)$$"
      ]
    },
    {
      "cell_type": "code",
      "execution_count": 38,
      "metadata": {
        "id": "udW3YrxS7R9_"
      },
      "outputs": [],
      "source": [
        "import numpy as np\n",
        "\n",
        "# Vamos criar uma função pNorm que recebe como parâmetro p e retorna uma função que calcula a pNorma\n",
        "def pNorm(p):\n",
        "    \"\"\"Generates a function to calculate the p-Norm between two points.\n",
        "\n",
        "    Args:\n",
        "        p (int): The integer p.\n",
        "\n",
        "    Returns:\n",
        "        Dist: A function that calculates the p-Norm.\n",
        "    \"\"\"\n",
        "\n",
        "    def Dist(x,y):\n",
        "        return np.power(np.power(np.abs(x-y),p).sum(),1/float(p))\n",
        "    return Dist"
      ]
    },
    {
      "cell_type": "code",
      "execution_count": 39,
      "metadata": {
        "id": "T7Jrzyki7R9_"
      },
      "outputs": [],
      "source": [
        "# Vamos criar uma RDD com valores numéricos\n",
        "np.random.seed(42)\n",
        "numPointsRDD = sc.parallelize(enumerate(np.random.random(size=(10,100))))"
      ]
    },
    {
      "cell_type": "code",
      "execution_count": 40,
      "metadata": {
        "colab": {
          "base_uri": "https://localhost:8080/"
        },
        "id": "r2zksR6B7R-A",
        "outputId": "89498c70-a24e-4a4b-c88b-c242546b5bc0"
      },
      "outputs": [
        {
          "output_type": "stream",
          "name": "stdout",
          "text": [
            "0.0 4.709048183663605 3.7511916889753705\n"
          ]
        }
      ],
      "source": [
        "# EXERCICIO\n",
        "# Procure dentre os comandos do PySpark, um que consiga fazer o produto cartesiano da base com ela mesma\n",
        "cartPointsRDD = numPointsRDD.cartesian(numPointsRDD)\n",
        "\n",
        "# Aplique um mapa para transformar nossa RDD em uma RDD de tuplas ((id1,id2), (vetor1,vetor2))\n",
        "# DICA: primeiro utilize o comando take(1) e imprima o resultado para verificar o formato atual da RDD\n",
        "cartPointsParesRDD = cartPointsRDD.map(lambda x: ((x[0][0],x[1][0]), (x[0][1],x[1][1])))\n",
        "\n",
        "\n",
        "# Aplique um mapa para calcular a Distância Euclidiana entre os pares\n",
        "Euclid = pNorm(2)\n",
        "distRDD = cartPointsParesRDD.map(lambda x: (x[0], Euclid(x[1][0],x[1][1])))\n",
        "\n",
        "# Encontre a distância máxima, mínima e média, aplicando um mapa que transforma (chave,valor) --> valor\n",
        "# e utilizando os comandos internos do pyspark para o cálculo da min, max, mean\n",
        "statRDD = distRDD.map(lambda x: x[1])\n",
        "\n",
        "minv, maxv, meanv = statRDD.min(), statRDD.max(), statRDD.mean()\n",
        "print (minv, maxv, meanv)"
      ]
    },
    {
      "cell_type": "code",
      "execution_count": 41,
      "metadata": {
        "colab": {
          "base_uri": "https://localhost:8080/"
        },
        "id": "EhSVuyeh7R-A",
        "outputId": "aebbb2a1-1c7d-431e-f266-65b1a65c4bdd"
      },
      "outputs": [
        {
          "output_type": "stream",
          "name": "stdout",
          "text": [
            "OK\n"
          ]
        }
      ],
      "source": [
        "assert (minv.round(2), maxv.round(2), meanv.round(2))==(0.0, 4.71, 3.75), 'Valores incorretos'\n",
        "print (\"OK\")"
      ]
    },
    {
      "cell_type": "markdown",
      "metadata": {
        "id": "QlM73HxB7R-A"
      },
      "source": [
        "#### ** (5b) Valores Categóricos **\n",
        "\n",
        "#### Cuando nuestros objetos están representados por atributos categóricos, no tienen similitud espacial. Para calcular la similitud entre ellos podemos primero transformar nuestro vector de atributos en un vector binario indicando, para cada valor posible de cada atributo, si tiene ese atributo o no.\n",
        "\n",
        "#### Con el vector binario podemos usar la distancia de Hamming definida por:\n",
        "\n",
        "#### $$ H(x,y) = \\sum_{i=1}^{n}{x_i != y_i} $$\n",
        "\n",
        "#### También puedes establecer la distancia de Jaccard como:\n",
        "\n",
        "#### $$ J(x,y) = \\frac{\\sum_{i=1}^{n}{x_i == y_i} }{\\sum_{i=1}^{n}{\\max(x_i, y_i}) } $$"
      ]
    },
    {
      "cell_type": "code",
      "execution_count": 42,
      "metadata": {
        "id": "blbobQCl7R-B"
      },
      "outputs": [],
      "source": [
        "# Vamos criar uma função para calcular a distância de Hamming\n",
        "def Hamming(x,y):\n",
        "    \"\"\"Calculates the Hamming distance between two binary vectors.\n",
        "\n",
        "    Args:\n",
        "        x, y (np.array): Array of binary integers x and y.\n",
        "\n",
        "    Returns:\n",
        "        H (int): The Hamming distance between x and y.\n",
        "    \"\"\"\n",
        "    return (x!=y).sum()\n",
        "\n",
        "# Vamos criar uma função para calcular a distância de Jaccard\n",
        "def Jaccard(x,y):\n",
        "    \"\"\"Calculates the Jaccard distance between two binary vectors.\n",
        "\n",
        "    Args:\n",
        "        x, y (np.array): Array of binary integers x and y.\n",
        "\n",
        "    Returns:\n",
        "        J (int): The Jaccard distance between x and y.\n",
        "    \"\"\"\n",
        "    return (x==y).sum()/float( np.maximum(x,y).sum() )"
      ]
    },
    {
      "cell_type": "code",
      "execution_count": 43,
      "metadata": {
        "id": "3kuXNwPv7R-B"
      },
      "outputs": [],
      "source": [
        "# Vamos criar uma RDD com valores categóricos\n",
        "catPointsRDD = sc.parallelize(enumerate([['alto', 'caro', 'azul'],\n",
        "                             ['medio', 'caro', 'verde'],\n",
        "                             ['alto', 'barato', 'azul'],\n",
        "                             ['medio', 'caro', 'vermelho'],\n",
        "                             ['baixo', 'barato', 'verde'],\n",
        "                            ]))"
      ]
    },
    {
      "cell_type": "code",
      "execution_count": 44,
      "metadata": {
        "colab": {
          "base_uri": "https://localhost:8080/"
        },
        "id": "hVk_eti27R-C",
        "outputId": "0948e864-7d5a-470b-85a7-3c252e65c0ee"
      },
      "outputs": [
        {
          "output_type": "stream",
          "name": "stdout",
          "text": [
            "{'alto': 2, 'caro': 0, 'baixo': 4, 'verde': 1, 'azul': 2, 'medio': 3, 'barato': 4, 'vermelho': 3} 8\n"
          ]
        }
      ],
      "source": [
        "# EXERCICIO\n",
        "# Crie um RDD de chaves únicas utilizando flatMap\n",
        "chavesRDD = (catPointsRDD\n",
        "             .flatMap(lambda x: [((x[0],xi),1) for xi in x[1]])\n",
        "             .reduceByKey(lambda x,y: x)\n",
        "             .map(lambda x: x[0])\n",
        "             )\n",
        "\n",
        "chaves = dict((v,k) for k,v in chavesRDD.collect())\n",
        "nchaves = len(chaves)\n",
        "print (chaves, nchaves)"
      ]
    },
    {
      "cell_type": "code",
      "execution_count": 45,
      "metadata": {
        "colab": {
          "base_uri": "https://localhost:8080/"
        },
        "id": "j7rGp_N-7R-C",
        "outputId": "8339861a-aa70-460f-eace-bee8e79b55c3"
      },
      "outputs": [
        {
          "output_type": "stream",
          "name": "stdout",
          "text": [
            "OK\n",
            "OK\n"
          ]
        }
      ],
      "source": [
        "assert chaves=={'alto': 2, 'caro': 0, 'baixo': 4, 'verde': 1, 'azul': 2, 'medio': 3, 'barato': 4, 'vermelho': 3}, 'valores incorretos!'\n",
        "print (\"OK\")\n",
        "\n",
        "assert nchaves==8, 'número de chaves incorreta'\n",
        "print (\"OK\")"
      ]
    },
    {
      "cell_type": "code",
      "execution_count": 46,
      "metadata": {
        "colab": {
          "base_uri": "https://localhost:8080/"
        },
        "id": "oiYZDw497R-C",
        "outputId": "ff264e63-3ebc-4abb-8c5e-ec6072bcc155"
      },
      "outputs": [
        {
          "output_type": "execute_result",
          "data": {
            "text/plain": [
              "[(0, array([1., 0., 1., 0., 0., 0., 0., 0.])),\n",
              " (1, array([1., 1., 0., 1., 0., 0., 0., 0.])),\n",
              " (2, array([0., 0., 1., 0., 1., 0., 0., 0.])),\n",
              " (3, array([1., 0., 0., 1., 0., 0., 0., 0.])),\n",
              " (4, array([0., 1., 0., 0., 1., 0., 0., 0.]))]"
            ]
          },
          "metadata": {},
          "execution_count": 46
        }
      ],
      "source": [
        "def CreateNP(atributos,chaves):  \n",
        "    \"\"\"Binarize the categorical vector using a dictionary of keys.\n",
        "\n",
        "    Args:\n",
        "        atributos (list): List of attributes of a given object.\n",
        "        chaves (dict): dictionary with the relation attribute -> index\n",
        "\n",
        "    Returns:\n",
        "        array (np.array): Binary array of attributes.\n",
        "    \"\"\"\n",
        "    \n",
        "    array = np.zeros(len(chaves))\n",
        "    for atr in atributos:\n",
        "        array[ chaves[atr] ] = 1\n",
        "    return array\n",
        "\n",
        "# Converte o RDD para o formato binário, utilizando o dict chaves\n",
        "binRDD = catPointsRDD.map(lambda rec: (rec[0],CreateNP(rec[1], chaves)))\n",
        "binRDD.collect()"
      ]
    },
    {
      "cell_type": "code",
      "execution_count": 47,
      "metadata": {
        "colab": {
          "base_uri": "https://localhost:8080/"
        },
        "id": "BK2UUH037R-D",
        "outputId": "44c3caa5-0d69-49d9-9157-14a272460916"
      },
      "outputs": [
        {
          "output_type": "stream",
          "name": "stdout",
          "text": [
            "\t\tMin\tMax\tMean\n",
            "Hamming:\t0.00\t5.00\t2.40\n",
            "Jaccard:\t0.60\t4.00\t1.90\n"
          ]
        }
      ],
      "source": [
        "# EXERCICIO\n",
        "# Procure dentre os comandos do PySpark, um que consiga fazer o produto cartesiano da base com ela mesma\n",
        "cartBinRDD = binRDD.cartesian(binRDD)\n",
        "\n",
        "# Aplique um mapa para transformar nossa RDD em uma RDD de tuplas ((id1,id2), (vetor1,vetor2))\n",
        "# DICA: primeiro utilize o comando take(1) e imprima o resultado para verificar o formato atual da RDD\n",
        "cartBinParesRDD = cartBinRDD.map(lambda x: ((x[0][0],x[1][0]), (x[0][1],x[1][1])))\n",
        "\n",
        "\n",
        "# Aplique um mapa para calcular a Distância de Hamming e Jaccard entre os pares\n",
        "hamRDD = cartBinParesRDD.map(lambda x: (x[0], Hamming(x[1][0],x[1][1])))\n",
        "jacRDD = cartBinParesRDD.map(lambda x: (x[0], Jaccard(x[1][0],x[1][1])))\n",
        "\n",
        "# Encontre a distância máxima, mínima e média, aplicando um mapa que transforma (chave,valor) --> valor\n",
        "# e utilizando os comandos internos do pyspark para o cálculo da min, max, mean\n",
        "statHRDD = hamRDD.map(lambda x: x[1])\n",
        "statJRDD = jacRDD.map(lambda x: x[1])\n",
        "\n",
        "Hmin, Hmax, Hmean = statHRDD.min(), statHRDD.max(), statHRDD.mean()\n",
        "Jmin, Jmax, Jmean = statJRDD.min(), statJRDD.max(), statJRDD.mean()\n",
        "\n",
        "print (\"\\t\\tMin\\tMax\\tMean\")\n",
        "print (\"Hamming:\\t{:.2f}\\t{:.2f}\\t{:.2f}\".format(Hmin, Hmax, Hmean ))\n",
        "print (\"Jaccard:\\t{:.2f}\\t{:.2f}\\t{:.2f}\".format( Jmin, Jmax, Jmean ))"
      ]
    },
    {
      "cell_type": "code",
      "execution_count": 48,
      "metadata": {
        "colab": {
          "base_uri": "https://localhost:8080/"
        },
        "id": "odD7uCRR7R-D",
        "outputId": "1fe4cf6f-afd3-4388-c144-85af5cc713db"
      },
      "outputs": [
        {
          "output_type": "stream",
          "name": "stdout",
          "text": [
            "OK\n",
            "OK\n"
          ]
        }
      ],
      "source": [
        "assert (Hmin.round(2), Hmax.round(2), Hmean.round(2)) == (0.00,5.00,2.40), 'valores incorretos'\n",
        "print (\"OK\")\n",
        "assert (Jmin.round(2), Jmax.round(2), Jmean.round(2)) == (0.60,4.00,1.90), 'valores incorretos'\n",
        "print (\"OK\")"
      ]
    }
  ],
  "metadata": {
    "colab": {
      "collapsed_sections": [],
      "name": "Laboratorio01_Desarrollado.ipynb",
      "provenance": []
    },
    "kernelspec": {
      "display_name": "Python 3 (ipykernel)",
      "language": "python",
      "name": "python3"
    },
    "language_info": {
      "codemirror_mode": {
        "name": "ipython",
        "version": 3
      },
      "file_extension": ".py",
      "mimetype": "text/x-python",
      "name": "python",
      "nbconvert_exporter": "python",
      "pygments_lexer": "ipython3",
      "version": "3.9.4"
    }
  },
  "nbformat": 4,
  "nbformat_minor": 0
}