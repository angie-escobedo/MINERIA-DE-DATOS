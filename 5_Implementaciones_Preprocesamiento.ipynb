{
  "nbformat": 4,
  "nbformat_minor": 0,
  "metadata": {
    "colab": {
      "name": "5_Implementaciones_Preprocesamiento.ipynb",
      "provenance": [],
      "collapsed_sections": []
    },
    "kernelspec": {
      "name": "python3",
      "display_name": "Python 3"
    },
    "language_info": {
      "name": "python"
    }
  },
  "cells": [
    {
      "cell_type": "markdown",
      "source": [
        "##  $ NOMBRE: ANGIE\\ ESCOBEDO\\ MESCCO $\n",
        "\n"
      ],
      "metadata": {
        "id": "w4JJ4sE59ugf"
      }
    },
    {
      "cell_type": "markdown",
      "source": [
        "## PREPROCESAMIENTOS IMPLEMENTACION"
      ],
      "metadata": {
        "id": "RfHYy9ZH15e5"
      }
    },
    {
      "cell_type": "code",
      "execution_count": 1,
      "metadata": {
        "colab": {
          "base_uri": "https://localhost:8080/"
        },
        "id": "3GH1ZLhn1ocv",
        "outputId": "ed938cd6-e6c2-4dc9-8d07-86ce2eb5f05c"
      },
      "outputs": [
        {
          "output_type": "stream",
          "name": "stdout",
          "text": [
            "Collecting pyspark==3.0.1\n",
            "  Downloading pyspark-3.0.1.tar.gz (204.2 MB)\n",
            "\u001b[K     |████████████████████████████████| 204.2 MB 32 kB/s \n",
            "\u001b[?25hCollecting py4j==0.10.9\n",
            "  Downloading py4j-0.10.9-py2.py3-none-any.whl (198 kB)\n",
            "\u001b[K     |████████████████████████████████| 198 kB 62.3 MB/s \n",
            "\u001b[?25hBuilding wheels for collected packages: pyspark\n",
            "  Building wheel for pyspark (setup.py) ... \u001b[?25l\u001b[?25hdone\n",
            "  Created wheel for pyspark: filename=pyspark-3.0.1-py2.py3-none-any.whl size=204612246 sha256=23a79e96aaf1f691ded51655c60d18da4f823c781b29f6ae11f3235240becfe4\n",
            "  Stored in directory: /root/.cache/pip/wheels/5e/34/fa/b37b5cef503fc5148b478b2495043ba61b079120b7ff379f9b\n",
            "Successfully built pyspark\n",
            "Installing collected packages: py4j, pyspark\n",
            "Successfully installed py4j-0.10.9 pyspark-3.0.1\n"
          ]
        }
      ],
      "source": [
        "!pip install pyspark==3.0.1 py4j==0.10.9"
      ]
    },
    {
      "cell_type": "code",
      "source": [
        "from pyspark import SparkContext\n",
        "sc = SparkContext()"
      ],
      "metadata": {
        "id": "84hjMOAl27h3"
      },
      "execution_count": 2,
      "outputs": []
    },
    {
      "cell_type": "markdown",
      "source": [
        "## 1. *ESCALONAMIENTO*"
      ],
      "metadata": {
        "id": "ePS_kitO2Ak1"
      }
    },
    {
      "cell_type": "code",
      "source": [
        "def Escalonamiento(x):\n",
        "  \"\"\"Escalona los elementos de un RDD\n",
        "\n",
        "  Args:\n",
        "    X(RDD NUMERIC: array RDD numeric)\n",
        "  Returns\n",
        "    RDD: Vector escalado\n",
        "  \"\"\"\n",
        "  # Obtenemos el minimo y mayor valor del RDD\n",
        "  Xmin = x.min()\n",
        "  Xmaxi = x.max()\n",
        "  dato = x.map(lambda x: (x-Xmin)/(Xmaxi-Xmin))\n",
        "  return dato"
      ],
      "metadata": {
        "id": "umpbS04d2GbS"
      },
      "execution_count": 4,
      "outputs": []
    },
    {
      "cell_type": "code",
      "source": [
        "Vector_A = sc.parallelize(range(15,25),3)\n",
        "Vector = Escalonamiento(Vector_A)\n",
        "print(Vector.collect())"
      ],
      "metadata": {
        "colab": {
          "base_uri": "https://localhost:8080/"
        },
        "id": "KyQnQ98g3qIv",
        "outputId": "e3527524-3448-4226-ce23-6637f2fb0b66"
      },
      "execution_count": 5,
      "outputs": [
        {
          "output_type": "stream",
          "name": "stdout",
          "text": [
            "[0.0, 0.1111111111111111, 0.2222222222222222, 0.3333333333333333, 0.4444444444444444, 0.5555555555555556, 0.6666666666666666, 0.7777777777777778, 0.8888888888888888, 1.0]\n"
          ]
        }
      ]
    },
    {
      "cell_type": "markdown",
      "source": [
        "## *2. ESTANDARIZACION*"
      ],
      "metadata": {
        "id": "6Okx96zJ2GxT"
      }
    },
    {
      "cell_type": "code",
      "source": [
        "def Estandarizacion(x):\n",
        "  \"\"\"Estandariza los elementos de un RDD\n",
        "\n",
        "  Args:\n",
        "    X(RDD NUMERIC: array RDD numeric)\n",
        "  Returns\n",
        "    RDD: Vector estandarizado\n",
        "  \"\"\"\n",
        "  # Obtenemos la media y la desviacion estandar de valor del RDD\n",
        "  X_media = x.mean()\n",
        "  X_des = x.stdev()\n",
        "  dato = x.map(lambda x: (x-X_media)/X_des)\n",
        "  return dato"
      ],
      "metadata": {
        "id": "tqCIBjjR4Q8D"
      },
      "execution_count": 6,
      "outputs": []
    },
    {
      "cell_type": "code",
      "source": [
        "Vector_B = sc.parallelize(range(15,25),3)\n",
        "Vector1 = Estandarizacion(Vector_B)\n",
        "print(Vector1.collect())"
      ],
      "metadata": {
        "colab": {
          "base_uri": "https://localhost:8080/"
        },
        "id": "Gc9hbMiH4olD",
        "outputId": "d15bd56a-ce05-4521-a317-d25ca8acaedb"
      },
      "execution_count": 7,
      "outputs": [
        {
          "output_type": "stream",
          "name": "stdout",
          "text": [
            "[-1.5666989036012806, -1.2185435916898848, -0.8703882797784892, -0.5222329678670935, -0.17407765595569785, 0.17407765595569785, 0.5222329678670935, 0.8703882797784892, 1.2185435916898848, 1.5666989036012806]\n"
          ]
        }
      ]
    },
    {
      "cell_type": "markdown",
      "source": [
        "## *3. NORMALIZACION*"
      ],
      "metadata": {
        "id": "982m5EvW2NQm"
      }
    },
    {
      "cell_type": "code",
      "source": [
        "import math\n",
        "def Normalizacion(x):\n",
        "  \"\"\"Normalizar los elementos de un RDD\n",
        "\n",
        "  Args:\n",
        "    X(RDD NUMERIC: array RDD numeric)\n",
        "  Returns\n",
        "    RDD: Vector normalizado\n",
        "  \"\"\"\n",
        "  lista_cuadrada = x.map(lambda x: x*x)\n",
        "  sum_total = lista_cuadrada.sum() #Hallamos la suma\n",
        "  valor = math.sqrt(sum_total) # Hallamos raiz de la suma\n",
        "  dato = x.map(lambda x: (x/valor))\n",
        "  return dato"
      ],
      "metadata": {
        "id": "LrXuRv5Y4zLc"
      },
      "execution_count": 10,
      "outputs": []
    },
    {
      "cell_type": "code",
      "source": [
        "Vector_C = sc.parallelize(range(15,25),3)\n",
        "Vector2 = Normalizacion(Vector_C)\n",
        "print(Vector2.collect())"
      ],
      "metadata": {
        "colab": {
          "base_uri": "https://localhost:8080/"
        },
        "id": "GB3HJVFU5Vam",
        "outputId": "41fb0cbe-f940-4ec6-a7d5-1c28a5485af3"
      },
      "execution_count": 11,
      "outputs": [
        {
          "output_type": "stream",
          "name": "stdout",
          "text": [
            "[0.24065547555594474, 0.25669917392634106, 0.2727428722967374, 0.2887865706671337, 0.30483026903753, 0.3208739674079263, 0.3369176657783226, 0.3529613641487189, 0.36900506251911525, 0.38504876088951157]\n"
          ]
        }
      ]
    },
    {
      "cell_type": "markdown",
      "source": [
        "## *4. SIMILITUD DE COSENOS*"
      ],
      "metadata": {
        "id": "pk-__MAv2RFp"
      }
    },
    {
      "cell_type": "code",
      "source": [
        "\n",
        "def Sim_cosenos(x,y):\n",
        "    \"\"\"similitud de cosenos los elementos de un RDD\n",
        "\n",
        "    Args:\n",
        "      X(RDD NUMERIC: array RDD numeric)\n",
        "    Returns\n",
        "      RDD: Vector similitud\n",
        "    \"\"\"\n",
        "    def puntos(x,y):\n",
        "      #a= x.zip(y).map(lambda x: x[0]*x[1]).reduce(lambda x,y:x+y)\n",
        "      return x.zip(y).map(lambda x: x[0]*x[1]).reduce(lambda x,y:x+y)\n",
        "    arriba = puntos(x,y)\n",
        "    abajo = puntos(x,x)*puntos(y,y)\n",
        "    return arriba/abajo"
      ],
      "metadata": {
        "id": "rV5fafmc5oMZ"
      },
      "execution_count": 34,
      "outputs": []
    },
    {
      "cell_type": "code",
      "source": [
        "x = sc.parallelize(range(0,25),4)\n",
        "y = sc.parallelize(range(50,75),4)\n",
        "print(Sim_cosenos(x,y))"
      ],
      "metadata": {
        "colab": {
          "base_uri": "https://localhost:8080/"
        },
        "id": "HVHys2e450i6",
        "outputId": "32ea419f-ac4d-4940-a9a6-b95d24bb96ec"
      },
      "execution_count": 35,
      "outputs": [
        {
          "output_type": "stream",
          "name": "stdout",
          "text": [
            "4.1696349997904704e-05\n"
          ]
        }
      ]
    },
    {
      "cell_type": "markdown",
      "source": [
        "## 5. BINARIO"
      ],
      "metadata": {
        "id": "Cd6_ImMM2Wwk"
      }
    },
    {
      "cell_type": "code",
      "source": [
        "def Binario(corpus):\n",
        "\n",
        "  words = map(lambda x: (x,1),corpus)\n",
        "  return list(words)"
      ],
      "metadata": {
        "id": "duZW50hB8nu7"
      },
      "execution_count": 36,
      "outputs": []
    },
    {
      "cell_type": "code",
      "source": [
        "Corpus = [[\"balon\",\"messi\",\"ronaldo\", \"ramos\",\"ramos\"],[\"futbol\",\"messi\",\"ronaldo\", \"futbol\",\"balon\"],[\"ronaldo\",\"messi\",\"futbol\", \"cancha\",\"cancha\"]]\n",
        "dato=Corpus[0]\n",
        "print(Binario(dato))\n",
        "\n",
        "Vector_D = sc.parallelize(Corpus,3)\n",
        "Vector3 = Vector_D.map(lambda x: Binario(x))\n",
        "print()\n",
        "print(Vector3.collect())"
      ],
      "metadata": {
        "colab": {
          "base_uri": "https://localhost:8080/"
        },
        "id": "oxW5_PBD8-4r",
        "outputId": "297b2a51-c7e8-4aee-c145-bf96db0ace3f"
      },
      "execution_count": 38,
      "outputs": [
        {
          "output_type": "stream",
          "name": "stdout",
          "text": [
            "[('balon', 1), ('messi', 1), ('ronaldo', 1), ('ramos', 1), ('ramos', 1)]\n",
            "\n",
            "[[('balon', 1), ('messi', 1), ('ronaldo', 1), ('ramos', 1), ('ramos', 1)], [('futbol', 1), ('messi', 1), ('ronaldo', 1), ('futbol', 1), ('balon', 1)], [('ronaldo', 1), ('messi', 1), ('futbol', 1), ('cancha', 1), ('cancha', 1)]]\n"
          ]
        }
      ]
    }
  ]
}