{
  "nbformat": 4,
  "nbformat_minor": 0,
  "metadata": {
    "colab": {
      "name": "MapReduce_Bow.ipynb",
      "provenance": [],
      "collapsed_sections": []
    },
    "kernelspec": {
      "name": "python3",
      "display_name": "Python 3"
    },
    "language_info": {
      "name": "python"
    }
  },
  "cells": [
    {
      "cell_type": "markdown",
      "source": [
        "##  $ NOMBRE: ANGIE\\ ESCOBEDO\\ MESCCO $"
      ],
      "metadata": {
        "id": "K8hNWgrzI6E0"
      }
    },
    {
      "cell_type": "code",
      "source": [
        "!pip install pyspark==3.0.1 py4j==0.10.9"
      ],
      "metadata": {
        "colab": {
          "base_uri": "https://localhost:8080/"
        },
        "id": "cE-sfy-hCXqq",
        "outputId": "07015d46-9005-4a03-de31-1704dded3a12"
      },
      "execution_count": 5,
      "outputs": [
        {
          "output_type": "stream",
          "name": "stdout",
          "text": [
            "Collecting pyspark==3.0.1\n",
            "  Downloading pyspark-3.0.1.tar.gz (204.2 MB)\n",
            "\u001b[K     |████████████████████████████████| 204.2 MB 33 kB/s \n",
            "\u001b[?25hCollecting py4j==0.10.9\n",
            "  Downloading py4j-0.10.9-py2.py3-none-any.whl (198 kB)\n",
            "\u001b[K     |████████████████████████████████| 198 kB 28.0 MB/s \n",
            "\u001b[?25hBuilding wheels for collected packages: pyspark\n",
            "  Building wheel for pyspark (setup.py) ... \u001b[?25l\u001b[?25hdone\n",
            "  Created wheel for pyspark: filename=pyspark-3.0.1-py2.py3-none-any.whl size=204612246 sha256=39a221697f5fa734a04252fc2fc255d0de02c60efa394e78e352d2a482777ec8\n",
            "  Stored in directory: /root/.cache/pip/wheels/5e/34/fa/b37b5cef503fc5148b478b2495043ba61b079120b7ff379f9b\n",
            "Successfully built pyspark\n",
            "Installing collected packages: py4j, pyspark\n",
            "Successfully installed py4j-0.10.9 pyspark-3.0.1\n"
          ]
        }
      ]
    },
    {
      "cell_type": "code",
      "source": [
        "from pyspark import SparkContext\n",
        "sc = SparkContext()"
      ],
      "metadata": {
        "id": "bVD7esIpCZds"
      },
      "execution_count": 7,
      "outputs": []
    },
    {
      "cell_type": "markdown",
      "source": [
        "## *1. BAGOFWORDS*"
      ],
      "metadata": {
        "id": "j6NvJQcNA6BG"
      }
    },
    {
      "cell_type": "code",
      "execution_count": 58,
      "metadata": {
        "id": "x5RqWU67-lF6"
      },
      "outputs": [],
      "source": [
        "def bag_of_word(Corpus):\n",
        "  \n",
        "  x = Corpus.strip().lower().split()\n",
        "  return list(filter(lambda x: len(x)>2,x)) # solo palabras mayor a dos de tamaño"
      ]
    },
    {
      "cell_type": "code",
      "source": [
        "CORPUS = [\"most other parts of the world at no cost and future with almost no restrictions\",\n",
        "          \"have to check the country laws of the country where are located before using\",\n",
        "          \"most you are not located in the United States future\"]\n",
        "\n",
        "Corpus_words = sc.parallelize(CORPUS,6)\n",
        "Corpus_words = Corpus_words.map(bag_of_word)\n",
        "Corpus_words.take(3)"
      ],
      "metadata": {
        "colab": {
          "base_uri": "https://localhost:8080/"
        },
        "id": "sG0Ji-RuBePQ",
        "outputId": "fbeec57a-cdd6-425c-d8d3-df06ff0bd022"
      },
      "execution_count": 62,
      "outputs": [
        {
          "output_type": "execute_result",
          "data": {
            "text/plain": [
              "[['most',\n",
              "  'other',\n",
              "  'parts',\n",
              "  'the',\n",
              "  'world',\n",
              "  'cost',\n",
              "  'and',\n",
              "  'future',\n",
              "  'with',\n",
              "  'almost',\n",
              "  'restrictions'],\n",
              " ['have',\n",
              "  'check',\n",
              "  'the',\n",
              "  'country',\n",
              "  'laws',\n",
              "  'the',\n",
              "  'country',\n",
              "  'where',\n",
              "  'are',\n",
              "  'located',\n",
              "  'before',\n",
              "  'using'],\n",
              " ['most', 'you', 'are', 'not', 'located', 'the', 'united', 'states', 'future']]"
            ]
          },
          "metadata": {},
          "execution_count": 62
        }
      ]
    },
    {
      "cell_type": "markdown",
      "source": [
        "## *2.TF IMPLEMENTADO*"
      ],
      "metadata": {
        "id": "_VWJdZjRCkgg"
      }
    },
    {
      "cell_type": "code",
      "source": [
        "import math\n",
        "def TF_Implementado(Corpus):\n",
        "    \"\"\"Funcion que calcula el tf de un documento \n",
        "\n",
        "    Args:\n",
        "        Doc (str): un Str que es un documento que contiene palabras\n",
        "\n",
        "    Returns:\n",
        "        (str,double): un RDD contiene (palabra,double) tupla.\"\"\"\n",
        "    \n",
        "    # Calculamos words del corpus\n",
        "    cant_words=len(Corpus)\n",
        "    # Obtener lista sin las repeticiones del corpus\n",
        "    cant_sin_duplicar=list(set(Corpus))\n",
        "\n",
        "    #Obtenemos el tf para cada palabra\n",
        "    mapeo=list(map(lambda x:(x,Corpus.count(x)),cant_sin_duplicar))\n",
        "    \n",
        "    tf=list(map(lambda x:(x[0],1+math.log10(x[1]/cant_words)),mapeo))# Calculamos logaritmicamente\n",
        "\n",
        "    return (tf)"
      ],
      "metadata": {
        "id": "bQSt17t4GEPQ"
      },
      "execution_count": 63,
      "outputs": []
    },
    {
      "cell_type": "code",
      "source": [
        "CORPUS = [\"most other parts of the world at no cost and future with almost no restrictions\",\n",
        "          \"have to check the country laws of the country where are located before using\",\n",
        "          \"most you are not located in the United States future\"]\n",
        "\n",
        "Corpus_words = sc.parallelize(CORPUS,3)\n",
        "Corpus_words = Corpus_words.map(bag_of_word)\n",
        "Corpus_TF=Corpus_words.map(TF_Implementado)\n",
        "Corpus_TF.take(2)"
      ],
      "metadata": {
        "colab": {
          "base_uri": "https://localhost:8080/"
        },
        "id": "9hDS_tXoHCMb",
        "outputId": "128fbc85-c011-4e3a-98a5-cbf1db373e5a"
      },
      "execution_count": 66,
      "outputs": [
        {
          "output_type": "execute_result",
          "data": {
            "text/plain": [
              "[[('cost', -0.04139268515822492),\n",
              "  ('most', -0.04139268515822492),\n",
              "  ('world', -0.04139268515822492),\n",
              "  ('with', -0.04139268515822492),\n",
              "  ('other', -0.04139268515822492),\n",
              "  ('almost', -0.04139268515822492),\n",
              "  ('the', -0.04139268515822492),\n",
              "  ('restrictions', -0.04139268515822492),\n",
              "  ('future', -0.04139268515822492),\n",
              "  ('and', -0.04139268515822492),\n",
              "  ('parts', -0.04139268515822492)],\n",
              " [('where', -0.07918124604762489),\n",
              "  ('using', -0.07918124604762489),\n",
              "  ('located', -0.07918124604762489),\n",
              "  ('have', -0.07918124604762489),\n",
              "  ('laws', -0.07918124604762489),\n",
              "  ('before', -0.07918124604762489),\n",
              "  ('are', -0.07918124604762489),\n",
              "  ('the', 0.22184874961635637),\n",
              "  ('check', -0.07918124604762489),\n",
              "  ('country', 0.22184874961635637)]]"
            ]
          },
          "metadata": {},
          "execution_count": 66
        }
      ]
    },
    {
      "cell_type": "markdown",
      "source": [
        "## *3. IDF IMPLEMENTACION*"
      ],
      "metadata": {
        "id": "fi7R7yc3HZ5A"
      }
    },
    {
      "cell_type": "code",
      "source": [
        "import math\n",
        "def IDF_Implementacion(Document,corpus):\n",
        "    \"\"\"Funcion que calcula el IDF de un corpus de TF \"\"\"\n",
        "    Documento_New=Document.flatMap(lambda x:x)\n",
        "    Documento_New=Documento_New.map(lambda x:x[0]).distinct()\n",
        "    #Total documentos en corpus\n",
        "    total=corpus.count()\n",
        "    corpus_collection=corpus.collect()\n",
        "    #Extraer cantidad de veces de cada palabra los corpus\n",
        "    IDF=Documento_New.map(lambda x:list(map(lambda y:(x,1 if x in y else 0),corpus_collection)))\n",
        "    IDF_new=IDF.flatMap(lambda x:x)\n",
        "    IDF_new=IDF_new.groupByKey().map(lambda x:(x[0],sum(x[1])))\n",
        "    IDF_new=IDF_new.map(lambda x:(x[0],math.log10(1+total/x[1])))# Calculamos logaritmicamente\n",
        "    return IDF_new"
      ],
      "metadata": {
        "id": "OfC-eKY5HXEj"
      },
      "execution_count": 70,
      "outputs": []
    },
    {
      "cell_type": "code",
      "source": [
        "CORPUS = [\"most other parts of the world at no cost and future with almost no restrictions\",\n",
        "          \"have to check the country laws of the country where are located before using\",\n",
        "          \"most you are not located in the United States future\"]\n",
        "\n",
        "Corpus_words = sc.parallelize(CORPUS,3)\n",
        "Corpus_words = Corpus_words.map(bag_of_word)\n",
        "Corpus_TF = Corpus_words.map(TF_Implementado)\n",
        "Corpus_IDF = IDF_Implementacion(Corpus_TF,Corpus_words)\n",
        "Corpus_IDF.collect()\n"
      ],
      "metadata": {
        "colab": {
          "base_uri": "https://localhost:8080/"
        },
        "id": "v9VSD6P6H5GU",
        "outputId": "42054061-14f4-4323-e19c-03f7669367d2"
      },
      "execution_count": 71,
      "outputs": [
        {
          "output_type": "execute_result",
          "data": {
            "text/plain": [
              "[('cost', 0.6020599913279624),\n",
              " ('most', 0.3979400086720376),\n",
              " ('with', 0.6020599913279624),\n",
              " ('almost', 0.6020599913279624),\n",
              " ('the', 0.3010299956639812),\n",
              " ('parts', 0.6020599913279624),\n",
              " ('located', 0.3979400086720376),\n",
              " ('have', 0.6020599913279624),\n",
              " ('before', 0.6020599913279624),\n",
              " ('are', 0.3979400086720376),\n",
              " ('not', 0.6020599913279624),\n",
              " ('states', 0.6020599913279624),\n",
              " ('world', 0.6020599913279624),\n",
              " ('future', 0.3979400086720376),\n",
              " ('and', 0.6020599913279624),\n",
              " ('where', 0.6020599913279624),\n",
              " ('using', 0.6020599913279624),\n",
              " ('laws', 0.6020599913279624),\n",
              " ('united', 0.6020599913279624),\n",
              " ('you', 0.6020599913279624),\n",
              " ('other', 0.6020599913279624),\n",
              " ('restrictions', 0.6020599913279624),\n",
              " ('check', 0.6020599913279624),\n",
              " ('country', 0.6020599913279624)]"
            ]
          },
          "metadata": {},
          "execution_count": 71
        }
      ]
    },
    {
      "cell_type": "code",
      "source": [
        "def RecIDF(word,corpusIDF):\n",
        "        \"\"\"Funcion que recuperar el valor IDF de una palabra\"\"\"\n",
        "        L=corpusIDF\n",
        "        EL=list(filter(lambda x:x[0]==word,L))\n",
        "        return EL[0][1]"
      ],
      "metadata": {
        "id": "L5_-A7CYIboV"
      },
      "execution_count": 72,
      "outputs": []
    },
    {
      "cell_type": "markdown",
      "source": [
        "## *4.TF-IDF IMPLEMENTACION*"
      ],
      "metadata": {
        "id": "DJdvk4QYIePv"
      }
    },
    {
      "cell_type": "code",
      "source": [
        "import math\n",
        "\n",
        "def TF_IDF(TextoTF,TextoIDF):\n",
        "    \"\"\"Funcion que calcula el IDF para cada Doc de TF\"\"\"\n",
        "    corpusIDF=TextoIDF.collect()\n",
        "    TFIDF=TextoTF.map(lambda x:list(map((lambda y:(y[0],y[1]*RecIDF(y[0],corpusIDF))),x)))\n",
        "    return  TFIDF\n"
      ],
      "metadata": {
        "id": "jAscupLMIT55"
      },
      "execution_count": 74,
      "outputs": []
    },
    {
      "cell_type": "code",
      "source": [
        "CORPUS = [\"most other parts of the world at no cost and future with almost no restrictions\",\n",
        "          \"have to check the country laws of the country where are located before using\",\n",
        "          \"most you are not located in the United States future\"]\n",
        "\n",
        "Corpus_words = sc.parallelize(CORPUS,3)\n",
        "Corpus_words = Corpus_words.map(bag_of_word)\n",
        "Corpus_TF = Corpus_words.map(TF_Implementado)\n",
        "Corpus_IDF = IDF_Implementacion(Corpus_TF,Corpus_words)\n",
        "Corpus_TF_IDF = TF_IDF(Corpus_TF,Corpus_IDF)\n",
        "Corpus_TF_IDF.collect()"
      ],
      "metadata": {
        "colab": {
          "base_uri": "https://localhost:8080/"
        },
        "id": "q-DW564uInj2",
        "outputId": "5874f3cb-5821-4498-ae53-eb151e485834"
      },
      "execution_count": 75,
      "outputs": [
        {
          "output_type": "execute_result",
          "data": {
            "text/plain": [
              "[[('cost', -0.02492087966740197),\n",
              "  ('most', -0.016471805490822947),\n",
              "  ('world', -0.02492087966740197),\n",
              "  ('with', -0.02492087966740197),\n",
              "  ('other', -0.02492087966740197),\n",
              "  ('almost', -0.02492087966740197),\n",
              "  ('the', -0.012460439833700985),\n",
              "  ('restrictions', -0.02492087966740197),\n",
              "  ('future', -0.016471805490822947),\n",
              "  ('and', -0.02492087966740197),\n",
              "  ('parts', -0.02492087966740197)],\n",
              " [('where', -0.0476718603087703),\n",
              "  ('using', -0.0476718603087703),\n",
              "  ('located', -0.03150938573885459),\n",
              "  ('have', -0.0476718603087703),\n",
              "  ('laws', -0.0476718603087703),\n",
              "  ('before', -0.0476718603087703),\n",
              "  ('are', -0.03150938573885459),\n",
              "  ('the', 0.06678312813507141),\n",
              "  ('check', -0.0476718603087703),\n",
              "  ('country', 0.13356625627014282)],\n",
              " [('located', 0.01820873619052574),\n",
              "  ('most', 0.01820873619052574),\n",
              "  ('united', 0.02754875437014939),\n",
              "  ('not', 0.02754875437014939),\n",
              "  ('you', 0.02754875437014939),\n",
              "  ('the', 0.013774377185074694),\n",
              "  ('are', 0.01820873619052574),\n",
              "  ('states', 0.02754875437014939),\n",
              "  ('future', 0.01820873619052574)]]"
            ]
          },
          "metadata": {},
          "execution_count": 75
        }
      ]
    }
  ]
}